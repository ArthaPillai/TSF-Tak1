{
  "nbformat": 4,
  "nbformat_minor": 0,
  "metadata": {
    "kernelspec": {
      "display_name": "Python 3",
      "language": "python",
      "name": "python3"
    },
    "language_info": {
      "codemirror_mode": {
        "name": "ipython",
        "version": 3
      },
      "file_extension": ".py",
      "mimetype": "text/x-python",
      "name": "python",
      "nbconvert_exporter": "python",
      "pygments_lexer": "ipython3",
      "version": "3.7.4"
    },
    "colab": {
      "name": "Task-1 GRIP TSF.ipynb",
      "provenance": []
    }
  },
  "cells": [
    {
      "cell_type": "markdown",
      "metadata": {
        "id": "-CwQA7NIga5T"
      },
      "source": [
        "# GRIP - THE SPARK FOUNDATION\n",
        "## DATA SCIENCE AND BUISNESS ANALYTICS INTERNSHIP"
      ]
    },
    {
      "cell_type": "markdown",
      "metadata": {
        "id": "oCmBcBEwga5s"
      },
      "source": [
        "## Prediction using Supervised ML"
      ]
    },
    {
      "cell_type": "markdown",
      "metadata": {
        "id": "R5VmVZlQga5v"
      },
      "source": [
        "# Artha Pillai\n",
        "\n",
        "\n",
        "## Task-1: Predict the percentage of an student based on the no. of study hours"
      ]
    },
    {
      "cell_type": "markdown",
      "metadata": {
        "id": "rHkCiLCYga5y"
      },
      "source": [
        "### In this regression task the percentage of marks that a student is expected to score based on the number of hours they studied is to be found. This is a simple linear regression task as it involves just two variables. "
      ]
    },
    {
      "cell_type": "markdown",
      "metadata": {
        "id": "vwANRc_Bga54"
      },
      "source": [
        "## Import the required Libraries"
      ]
    },
    {
      "cell_type": "code",
      "metadata": {
        "id": "QdkDgv_3ga57"
      },
      "source": [
        "import numpy as np\n",
        "\n",
        "import pandas as pd\n",
        "from google.colab import files\n",
        "\n",
        "import matplotlib.pyplot as plt\n",
        "import seaborn as sn\n",
        "\n",
        "from sklearn.linear_model import LinearRegression\n",
        "from sklearn.model_selection import train_test_split\n",
        "%matplotlib inline"
      ],
      "execution_count": null,
      "outputs": []
    },
    {
      "cell_type": "markdown",
      "metadata": {
        "id": "BrVF_5Qaga6C"
      },
      "source": [
        "## Reading the Data from data source"
      ]
    },
    {
      "cell_type": "code",
      "metadata": {
        "id": "6mVhdxIrga6I"
      },
      "source": [
        "student = pd.read_csv(\"students_scores.csv\")"
      ],
      "execution_count": null,
      "outputs": []
    },
    {
      "cell_type": "markdown",
      "metadata": {
        "id": "IXCY_qe1ga6M"
      },
      "source": [
        "### Data Imported sucessfully"
      ]
    },
    {
      "cell_type": "code",
      "metadata": {
        "colab": {
          "base_uri": "https://localhost:8080/",
          "height": 204
        },
        "id": "5K0UOP1rga6P",
        "outputId": "1b6aa95e-49df-4a0f-83d2-0a62174798bb"
      },
      "source": [
        "student.head()"
      ],
      "execution_count": null,
      "outputs": [
        {
          "output_type": "execute_result",
          "data": {
            "text/html": [
              "<div>\n",
              "<style scoped>\n",
              "    .dataframe tbody tr th:only-of-type {\n",
              "        vertical-align: middle;\n",
              "    }\n",
              "\n",
              "    .dataframe tbody tr th {\n",
              "        vertical-align: top;\n",
              "    }\n",
              "\n",
              "    .dataframe thead th {\n",
              "        text-align: right;\n",
              "    }\n",
              "</style>\n",
              "<table border=\"1\" class=\"dataframe\">\n",
              "  <thead>\n",
              "    <tr style=\"text-align: right;\">\n",
              "      <th></th>\n",
              "      <th>Hours</th>\n",
              "      <th>Scores</th>\n",
              "    </tr>\n",
              "  </thead>\n",
              "  <tbody>\n",
              "    <tr>\n",
              "      <th>0</th>\n",
              "      <td>2.5</td>\n",
              "      <td>21</td>\n",
              "    </tr>\n",
              "    <tr>\n",
              "      <th>1</th>\n",
              "      <td>5.1</td>\n",
              "      <td>47</td>\n",
              "    </tr>\n",
              "    <tr>\n",
              "      <th>2</th>\n",
              "      <td>3.2</td>\n",
              "      <td>27</td>\n",
              "    </tr>\n",
              "    <tr>\n",
              "      <th>3</th>\n",
              "      <td>8.5</td>\n",
              "      <td>75</td>\n",
              "    </tr>\n",
              "    <tr>\n",
              "      <th>4</th>\n",
              "      <td>3.5</td>\n",
              "      <td>30</td>\n",
              "    </tr>\n",
              "  </tbody>\n",
              "</table>\n",
              "</div>"
            ],
            "text/plain": [
              "   Hours  Scores\n",
              "0    2.5      21\n",
              "1    5.1      47\n",
              "2    3.2      27\n",
              "3    8.5      75\n",
              "4    3.5      30"
            ]
          },
          "metadata": {
            "tags": []
          },
          "execution_count": 42
        }
      ]
    },
    {
      "cell_type": "code",
      "metadata": {
        "colab": {
          "base_uri": "https://localhost:8080/",
          "height": 204
        },
        "id": "L0b9A8Ioga6c",
        "outputId": "1f8efcb5-22af-4de7-cf64-07759547ada2"
      },
      "source": [
        "student.tail()"
      ],
      "execution_count": null,
      "outputs": [
        {
          "output_type": "execute_result",
          "data": {
            "text/html": [
              "<div>\n",
              "<style scoped>\n",
              "    .dataframe tbody tr th:only-of-type {\n",
              "        vertical-align: middle;\n",
              "    }\n",
              "\n",
              "    .dataframe tbody tr th {\n",
              "        vertical-align: top;\n",
              "    }\n",
              "\n",
              "    .dataframe thead th {\n",
              "        text-align: right;\n",
              "    }\n",
              "</style>\n",
              "<table border=\"1\" class=\"dataframe\">\n",
              "  <thead>\n",
              "    <tr style=\"text-align: right;\">\n",
              "      <th></th>\n",
              "      <th>Hours</th>\n",
              "      <th>Scores</th>\n",
              "    </tr>\n",
              "  </thead>\n",
              "  <tbody>\n",
              "    <tr>\n",
              "      <th>20</th>\n",
              "      <td>2.7</td>\n",
              "      <td>30</td>\n",
              "    </tr>\n",
              "    <tr>\n",
              "      <th>21</th>\n",
              "      <td>4.8</td>\n",
              "      <td>54</td>\n",
              "    </tr>\n",
              "    <tr>\n",
              "      <th>22</th>\n",
              "      <td>3.8</td>\n",
              "      <td>35</td>\n",
              "    </tr>\n",
              "    <tr>\n",
              "      <th>23</th>\n",
              "      <td>6.9</td>\n",
              "      <td>76</td>\n",
              "    </tr>\n",
              "    <tr>\n",
              "      <th>24</th>\n",
              "      <td>7.8</td>\n",
              "      <td>86</td>\n",
              "    </tr>\n",
              "  </tbody>\n",
              "</table>\n",
              "</div>"
            ],
            "text/plain": [
              "    Hours  Scores\n",
              "20    2.7      30\n",
              "21    4.8      54\n",
              "22    3.8      35\n",
              "23    6.9      76\n",
              "24    7.8      86"
            ]
          },
          "metadata": {
            "tags": []
          },
          "execution_count": 43
        }
      ]
    },
    {
      "cell_type": "code",
      "metadata": {
        "colab": {
          "base_uri": "https://localhost:8080/",
          "height": 297
        },
        "id": "EcZhF_d3ga6e",
        "outputId": "c5838cfd-9248-4b89-be45-7c4fbfc2524b"
      },
      "source": [
        "student.describe()"
      ],
      "execution_count": null,
      "outputs": [
        {
          "output_type": "execute_result",
          "data": {
            "text/html": [
              "<div>\n",
              "<style scoped>\n",
              "    .dataframe tbody tr th:only-of-type {\n",
              "        vertical-align: middle;\n",
              "    }\n",
              "\n",
              "    .dataframe tbody tr th {\n",
              "        vertical-align: top;\n",
              "    }\n",
              "\n",
              "    .dataframe thead th {\n",
              "        text-align: right;\n",
              "    }\n",
              "</style>\n",
              "<table border=\"1\" class=\"dataframe\">\n",
              "  <thead>\n",
              "    <tr style=\"text-align: right;\">\n",
              "      <th></th>\n",
              "      <th>Hours</th>\n",
              "      <th>Scores</th>\n",
              "    </tr>\n",
              "  </thead>\n",
              "  <tbody>\n",
              "    <tr>\n",
              "      <th>count</th>\n",
              "      <td>25.000000</td>\n",
              "      <td>25.000000</td>\n",
              "    </tr>\n",
              "    <tr>\n",
              "      <th>mean</th>\n",
              "      <td>5.012000</td>\n",
              "      <td>51.480000</td>\n",
              "    </tr>\n",
              "    <tr>\n",
              "      <th>std</th>\n",
              "      <td>2.525094</td>\n",
              "      <td>25.286887</td>\n",
              "    </tr>\n",
              "    <tr>\n",
              "      <th>min</th>\n",
              "      <td>1.100000</td>\n",
              "      <td>17.000000</td>\n",
              "    </tr>\n",
              "    <tr>\n",
              "      <th>25%</th>\n",
              "      <td>2.700000</td>\n",
              "      <td>30.000000</td>\n",
              "    </tr>\n",
              "    <tr>\n",
              "      <th>50%</th>\n",
              "      <td>4.800000</td>\n",
              "      <td>47.000000</td>\n",
              "    </tr>\n",
              "    <tr>\n",
              "      <th>75%</th>\n",
              "      <td>7.400000</td>\n",
              "      <td>75.000000</td>\n",
              "    </tr>\n",
              "    <tr>\n",
              "      <th>max</th>\n",
              "      <td>9.200000</td>\n",
              "      <td>95.000000</td>\n",
              "    </tr>\n",
              "  </tbody>\n",
              "</table>\n",
              "</div>"
            ],
            "text/plain": [
              "           Hours     Scores\n",
              "count  25.000000  25.000000\n",
              "mean    5.012000  51.480000\n",
              "std     2.525094  25.286887\n",
              "min     1.100000  17.000000\n",
              "25%     2.700000  30.000000\n",
              "50%     4.800000  47.000000\n",
              "75%     7.400000  75.000000\n",
              "max     9.200000  95.000000"
            ]
          },
          "metadata": {
            "tags": []
          },
          "execution_count": 44
        }
      ]
    },
    {
      "cell_type": "code",
      "metadata": {
        "colab": {
          "base_uri": "https://localhost:8080/"
        },
        "id": "8IOJp-Hfga6g",
        "outputId": "41a94110-282f-416e-9595-0aa9c306b5ad"
      },
      "source": [
        "student.shape"
      ],
      "execution_count": null,
      "outputs": [
        {
          "output_type": "execute_result",
          "data": {
            "text/plain": [
              "(25, 2)"
            ]
          },
          "metadata": {
            "tags": []
          },
          "execution_count": 45
        }
      ]
    },
    {
      "cell_type": "code",
      "metadata": {
        "colab": {
          "base_uri": "https://localhost:8080/"
        },
        "id": "bBxzngYaga6i",
        "outputId": "046a80c8-8a1a-4447-864d-3e8f1fbd68c0"
      },
      "source": [
        "student.info()"
      ],
      "execution_count": null,
      "outputs": [
        {
          "output_type": "stream",
          "text": [
            "<class 'pandas.core.frame.DataFrame'>\n",
            "RangeIndex: 25 entries, 0 to 24\n",
            "Data columns (total 2 columns):\n",
            " #   Column  Non-Null Count  Dtype  \n",
            "---  ------  --------------  -----  \n",
            " 0   Hours   25 non-null     float64\n",
            " 1   Scores  25 non-null     int64  \n",
            "dtypes: float64(1), int64(1)\n",
            "memory usage: 528.0 bytes\n"
          ],
          "name": "stdout"
        }
      ]
    },
    {
      "cell_type": "markdown",
      "metadata": {
        "id": "vbq_ZxZTga6k"
      },
      "source": [
        "### Check the missing values"
      ]
    },
    {
      "cell_type": "code",
      "metadata": {
        "colab": {
          "base_uri": "https://localhost:8080/"
        },
        "id": "CaH4AAy_ga6l",
        "outputId": "006d0241-f004-45fa-8d9b-41447dfa698c"
      },
      "source": [
        "student.isnull().sum()"
      ],
      "execution_count": null,
      "outputs": [
        {
          "output_type": "execute_result",
          "data": {
            "text/plain": [
              "Hours     0\n",
              "Scores    0\n",
              "dtype: int64"
            ]
          },
          "metadata": {
            "tags": []
          },
          "execution_count": 47
        }
      ]
    },
    {
      "cell_type": "markdown",
      "metadata": {
        "id": "f4L96SB9ga6o"
      },
      "source": [
        "### Check the correlation between hours and study"
      ]
    },
    {
      "cell_type": "code",
      "metadata": {
        "colab": {
          "base_uri": "https://localhost:8080/",
          "height": 111
        },
        "id": "QwybVlULga6p",
        "outputId": "12c51789-21f6-4977-f340-61b5e0538004"
      },
      "source": [
        "student.corr()"
      ],
      "execution_count": null,
      "outputs": [
        {
          "output_type": "execute_result",
          "data": {
            "text/html": [
              "<div>\n",
              "<style scoped>\n",
              "    .dataframe tbody tr th:only-of-type {\n",
              "        vertical-align: middle;\n",
              "    }\n",
              "\n",
              "    .dataframe tbody tr th {\n",
              "        vertical-align: top;\n",
              "    }\n",
              "\n",
              "    .dataframe thead th {\n",
              "        text-align: right;\n",
              "    }\n",
              "</style>\n",
              "<table border=\"1\" class=\"dataframe\">\n",
              "  <thead>\n",
              "    <tr style=\"text-align: right;\">\n",
              "      <th></th>\n",
              "      <th>Hours</th>\n",
              "      <th>Scores</th>\n",
              "    </tr>\n",
              "  </thead>\n",
              "  <tbody>\n",
              "    <tr>\n",
              "      <th>Hours</th>\n",
              "      <td>1.000000</td>\n",
              "      <td>0.976191</td>\n",
              "    </tr>\n",
              "    <tr>\n",
              "      <th>Scores</th>\n",
              "      <td>0.976191</td>\n",
              "      <td>1.000000</td>\n",
              "    </tr>\n",
              "  </tbody>\n",
              "</table>\n",
              "</div>"
            ],
            "text/plain": [
              "           Hours    Scores\n",
              "Hours   1.000000  0.976191\n",
              "Scores  0.976191  1.000000"
            ]
          },
          "metadata": {
            "tags": []
          },
          "execution_count": 48
        }
      ]
    },
    {
      "cell_type": "markdown",
      "metadata": {
        "id": "wPG97u4pga6s"
      },
      "source": [
        "## Data Visualization"
      ]
    },
    {
      "cell_type": "markdown",
      "metadata": {
        "id": "KkU4zCQSga6u"
      },
      "source": [
        "## Visualization with line plot"
      ]
    },
    {
      "cell_type": "code",
      "metadata": {
        "colab": {
          "base_uri": "https://localhost:8080/",
          "height": 299
        },
        "id": "GGL1CFPbga6w",
        "outputId": "cbdb7f60-413c-4d75-aae2-83c7851c6acc"
      },
      "source": [
        "plt.style.use('ggplot')\n",
        "student.plot(kind='line')\n",
        "plt.title('Hours vs Percentage')\n",
        "plt.xlabel('Hourse studied')\n",
        "plt.ylabel('Percentage Score')\n",
        "plt.show()"
      ],
      "execution_count": null,
      "outputs": [
        {
          "output_type": "display_data",
          "data": {
            "image/png": "[encoded data removed]",
            "text/plain": [
              "<Figure size 432x288 with 1 Axes>"
            ]
          },
          "metadata": {
            "tags": []
          }
        }
      ]
    },
    {
      "cell_type": "markdown",
      "metadata": {
        "id": "dHicEWFbga6z"
      },
      "source": [
        "## Data Visualisation with area plot"
      ]
    },
    {
      "cell_type": "code",
      "metadata": {
        "colab": {
          "base_uri": "https://localhost:8080/",
          "height": 628
        },
        "id": "HdfhwAjRga60",
        "outputId": "69891540-bb4b-4dbc-cc2f-b0335b160a59"
      },
      "source": [
        "xmin = min(student.Hours)\n",
        "xmax = max(student.Hours)\n",
        "student.plot(kind='area',alpha=0.8,stacked=True,figsize=(15,10),xlim=(xmin,xmax))\n",
        "plt.title('Hours vs Score',size=15)\n",
        "plt.xlabel('Hours',size=15)\n",
        "plt.ylabel('Score',size=15)\n",
        "plt.show()"
      ],
      "execution_count": null,
      "outputs": [
        {
          "output_type": "display_data",
          "data": {
            "image/png": "[encoded data removed]",
            "text/plain": [
              "<Figure size 1080x720 with 1 Axes>"
            ]
          },
          "metadata": {
            "tags": []
          }
        }
      ]
    },
    {
      "cell_type": "markdown",
      "metadata": {
        "id": "CO8QYx8gga64"
      },
      "source": [
        "## Data visualizing with scatter plot"
      ]
    },
    {
      "cell_type": "code",
      "metadata": {
        "colab": {
          "base_uri": "https://localhost:8080/",
          "height": 517
        },
        "id": "EJ6XIAr2ga67",
        "outputId": "b81da3ea-5a48-4251-9bdc-43bf2e17904f"
      },
      "source": [
        "student.plot(kind='scatter',x='Hours',y='Scores',color='g',figsize=(10,8))\n",
        "plt.title('Hours vs Percentage')\n",
        "plt.xlabel('Hours Studied')\n",
        "plt.ylabel('Percentage Scores')\n",
        "plt.show()"
      ],
      "execution_count": null,
      "outputs": [
        {
          "output_type": "display_data",
          "data": {
            "image/png": "[encoded data removed]",
            "text/plain": [
              "<Figure size 720x576 with 1 Axes>"
            ]
          },
          "metadata": {
            "tags": []
          }
        }
      ]
    },
    {
      "cell_type": "markdown",
      "metadata": {
        "id": "6OF-9dPtga6_"
      },
      "source": [
        "### By Visulization we come to know that this problem can be easily solved by linear regression"
      ]
    },
    {
      "cell_type": "markdown",
      "metadata": {
        "id": "xyyVZZ1Nga7B"
      },
      "source": [
        "## Modeling the data"
      ]
    },
    {
      "cell_type": "code",
      "metadata": {
        "colab": {
          "base_uri": "https://localhost:8080/"
        },
        "id": "CERR1yqoga7C",
        "outputId": "053cefcc-4bcf-4c2b-e7a6-ebe8207fb238"
      },
      "source": [
        "x = np.asanyarray(student[['Hours']])\n",
        "y = np.asanyarray(student[['Scores']])\n",
        "\n",
        "# Using train test split to split the data in train and test Data\n",
        "train_x,test_x,train_y,test_y=train_test_split(x,y,test_size=0.2,random_state=2)\n",
        "regressor = LinearRegression()\n",
        "regressor.fit(train_x,train_y)\n",
        "\n",
        "print(\"Training Complete\\n\")\n",
        "print('coehhicient: ', regressor.coef_)\n",
        "print('Intercept: ',regressor.intercept_)"
      ],
      "execution_count": null,
      "outputs": [
        {
          "output_type": "stream",
          "text": [
            "Training Complete\n",
            "\n",
            "coehhicient:  [[9.94061514]]\n",
            "Intercept:  [1.50791048]\n"
          ],
          "name": "stdout"
        }
      ]
    },
    {
      "cell_type": "markdown",
      "metadata": {
        "id": "bRkabzyLga7E"
      },
      "source": [
        "## we can also plot the fit line over the data in single linear regression "
      ]
    },
    {
      "cell_type": "code",
      "metadata": {
        "colab": {
          "base_uri": "https://localhost:8080/",
          "height": 299
        },
        "id": "yAWcJ1gBga7F",
        "outputId": "e9f9a2da-bb57-4c5e-9668-d5ad3d237d49"
      },
      "source": [
        "student.plot(kind='scatter',x='Hours',y='Scores',figsize=(5,4),color='r')\n",
        "plt.plot(train_x, regressor.coef_[0]*train_x + regressor.intercept_,color='b')\n",
        "plt.title('Hours vs Percentage')\n",
        "plt.xlabel('Hours Studied')\n",
        "plt.ylabel('Percentage Score')\n",
        "plt.show()"
      ],
      "execution_count": null,
      "outputs": [
        {
          "output_type": "display_data",
          "data": {
            "image/png": "[encoded data removed]",
            "text/plain": [
              "<Figure size 360x288 with 1 Axes>"
            ]
          },
          "metadata": {
            "tags": []
          }
        }
      ]
    },
    {
      "cell_type": "markdown",
      "metadata": {
        "id": "_ioETpLVga7I"
      },
      "source": [
        "### The blue line is the best fit line for this data"
      ]
    },
    {
      "cell_type": "markdown",
      "metadata": {
        "id": "p99eWinAga7K"
      },
      "source": [
        "## Evaluation of model"
      ]
    },
    {
      "cell_type": "code",
      "metadata": {
        "colab": {
          "base_uri": "https://localhost:8080/"
        },
        "id": "LWdL3w6Zga7L",
        "outputId": "8d2f5908-d3c6-4e38-dabc-7c5b03981399"
      },
      "source": [
        "# Using metrics to find mean obsolute error and r2 to see the accuracy\n",
        "\n",
        "from sklearn import metrics\n",
        "from sklearn.metrics import r2_score\n",
        "\n",
        "y_pred=regressor.predict(test_x)\n",
        "print('Mean Absolute Error : {}'.format(metrics.mean_absolute_error(y_pred,test_y)))\n",
        "print(\"R2-score: %.2f\" % r2_score(y_pred, test_y))\n"
      ],
      "execution_count": null,
      "outputs": [
        {
          "output_type": "stream",
          "text": [
            "Mean Absolute Error : 4.877039354964476\n",
            "R2-score: 0.98\n"
          ],
          "name": "stdout"
        }
      ]
    },
    {
      "cell_type": "markdown",
      "metadata": {
        "id": "f2VhghZjga7Q"
      },
      "source": [
        "## Predicting the score with the single input value"
      ]
    },
    {
      "cell_type": "code",
      "metadata": {
        "colab": {
          "base_uri": "https://localhost:8080/"
        },
        "id": "snsWP8Xjga7S",
        "outputId": "e393511c-1f82-481c-fa54-bfe2c2cd05e7"
      },
      "source": [
        "hours = 9.25\n",
        "predicted_score = regressor.predict([[hours]])\n",
        "print(f'No. of hours = {hours}')\n",
        "print(f'predicted Score  = {predicted_score[0]}')\n"
      ],
      "execution_count": null,
      "outputs": [
        {
          "output_type": "stream",
          "text": [
            "No. of hours = 9.25\n",
            "predicted Score  = [93.45860056]\n"
          ],
          "name": "stdout"
        }
      ]
    }
  ]
}